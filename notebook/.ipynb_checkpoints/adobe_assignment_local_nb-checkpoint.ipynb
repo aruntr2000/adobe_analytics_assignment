{
 "cells": [
  {
   "cell_type": "code",
   "execution_count": 20,
   "metadata": {},
   "outputs": [],
   "source": [
    "import pandas as pd\n",
    "import urllib\n",
    "from urllib.parse import urlparse, parse_qs"
   ]
  },
  {
   "cell_type": "code",
   "execution_count": 21,
   "metadata": {},
   "outputs": [],
   "source": [
    "df = pd.read_csv('data.tsv', sep='\\t')"
   ]
  },
  {
   "cell_type": "code",
   "execution_count": 22,
   "metadata": {},
   "outputs": [],
   "source": [
    "sort_df = df.sort_values(['ip', 'date_time'])\n",
    "#sort_df"
   ]
  },
  {
   "cell_type": "code",
   "execution_count": 23,
   "metadata": {},
   "outputs": [],
   "source": [
    "transformed_df = sort_df.drop(['hit_time_gmt', 'user_agent', 'geo_region', 'geo_country', 'geo_city', 'pagename'], axis=1)\n",
    "#transformed_df"
   ]
  },
  {
   "cell_type": "code",
   "execution_count": 24,
   "metadata": {},
   "outputs": [],
   "source": [
    "transformed_df.set_index('ip', inplace=True)\n",
    "#transformed_df"
   ]
  },
  {
   "cell_type": "code",
   "execution_count": 12,
   "metadata": {},
   "outputs": [],
   "source": [
    "search_engine_list = []\n",
    "search_keyword_list = []\n",
    "revenue_list = []\n",
    "\n",
    "for row in transformed_df.itertuples():\n",
    "    referrer_url = row.referrer\n",
    "    parsed_url = urlparse(referrer_url)\n",
    "    search_engine = parsed_url.hostname\n",
    "    search_engine_list.append(search_engine)\n",
    "    qr = parse_qs(parsed_url.query)\n",
    "    \n",
    "    if qr:\n",
    "        try:\n",
    "            search_keyword = qr['q'][0]\n",
    "        except KeyError:\n",
    "            search_keyword = \"\"\n",
    "    else:\n",
    "        search_keyword = \"\"\n",
    "    search_keyword_list.append(search_keyword)   \n",
    "    \n",
    "    event_list = row.event_list\n",
    "    if event_list == 1.0:\n",
    "        revenue = row.product_list.split(';')[3]\n",
    "        revenue_list.append(revenue)\n",
    "    else:\n",
    "        revenue = 0\n",
    "        revenue_list.append(revenue)\n",
    "                \n",
    "transformed_df['search_engine'] = search_engine_list\n",
    "transformed_df['search_keyword'] = search_keyword_list\n",
    "transformed_df['revenue'] = revenue_list\n",
    "#transformed_df"
   ]
  },
  {
   "cell_type": "code",
   "execution_count": 13,
   "metadata": {},
   "outputs": [
    {
     "data": {
      "text/html": [
       "<div>\n",
       "<style scoped>\n",
       "    .dataframe tbody tr th:only-of-type {\n",
       "        vertical-align: middle;\n",
       "    }\n",
       "\n",
       "    .dataframe tbody tr th {\n",
       "        vertical-align: top;\n",
       "    }\n",
       "\n",
       "    .dataframe thead th {\n",
       "        text-align: right;\n",
       "    }\n",
       "</style>\n",
       "<table border=\"1\" class=\"dataframe\">\n",
       "  <thead>\n",
       "    <tr style=\"text-align: right;\">\n",
       "      <th></th>\n",
       "      <th>revenue</th>\n",
       "    </tr>\n",
       "    <tr>\n",
       "      <th>ip</th>\n",
       "      <th></th>\n",
       "    </tr>\n",
       "  </thead>\n",
       "  <tbody>\n",
       "    <tr>\n",
       "      <th>23.8.61.21</th>\n",
       "      <td>250</td>\n",
       "    </tr>\n",
       "    <tr>\n",
       "      <th>44.12.96.2</th>\n",
       "      <td>190</td>\n",
       "    </tr>\n",
       "    <tr>\n",
       "      <th>67.98.123.1</th>\n",
       "      <td>290</td>\n",
       "    </tr>\n",
       "  </tbody>\n",
       "</table>\n",
       "</div>"
      ],
      "text/plain": [
       "            revenue\n",
       "ip                 \n",
       "23.8.61.21      250\n",
       "44.12.96.2      190\n",
       "67.98.123.1     290"
      ]
     },
     "execution_count": 13,
     "metadata": {},
     "output_type": "execute_result"
    }
   ],
   "source": [
    "revenue_df = transformed_df.drop(['date_time', 'event_list', 'page_url', 'product_list', 'referrer', \n",
    "                                         'search_engine', 'search_keyword'], axis=1)\n",
    "revenue_df = revenue_df[revenue_df.revenue != 0 ]\n",
    "revenue_df"
   ]
  },
  {
   "cell_type": "code",
   "execution_count": 14,
   "metadata": {},
   "outputs": [
    {
     "data": {
      "text/html": [
       "<div>\n",
       "<style scoped>\n",
       "    .dataframe tbody tr th:only-of-type {\n",
       "        vertical-align: middle;\n",
       "    }\n",
       "\n",
       "    .dataframe tbody tr th {\n",
       "        vertical-align: top;\n",
       "    }\n",
       "\n",
       "    .dataframe thead th {\n",
       "        text-align: right;\n",
       "    }\n",
       "</style>\n",
       "<table border=\"1\" class=\"dataframe\">\n",
       "  <thead>\n",
       "    <tr style=\"text-align: right;\">\n",
       "      <th></th>\n",
       "      <th>search_engine</th>\n",
       "      <th>search_keyword</th>\n",
       "    </tr>\n",
       "    <tr>\n",
       "      <th>ip</th>\n",
       "      <th></th>\n",
       "      <th></th>\n",
       "    </tr>\n",
       "  </thead>\n",
       "  <tbody>\n",
       "    <tr>\n",
       "      <th>23.8.61.21</th>\n",
       "      <td>www.bing.com</td>\n",
       "      <td>Zune</td>\n",
       "    </tr>\n",
       "    <tr>\n",
       "      <th>44.12.96.2</th>\n",
       "      <td>www.google.com</td>\n",
       "      <td>ipod</td>\n",
       "    </tr>\n",
       "    <tr>\n",
       "      <th>67.98.123.1</th>\n",
       "      <td>www.google.com</td>\n",
       "      <td>Ipod</td>\n",
       "    </tr>\n",
       "  </tbody>\n",
       "</table>\n",
       "</div>"
      ],
      "text/plain": [
       "              search_engine search_keyword\n",
       "ip                                        \n",
       "23.8.61.21     www.bing.com           Zune\n",
       "44.12.96.2   www.google.com           ipod\n",
       "67.98.123.1  www.google.com           Ipod"
      ]
     },
     "execution_count": 14,
     "metadata": {},
     "output_type": "execute_result"
    }
   ],
   "source": [
    "search_df = transformed_df.drop(['date_time', 'event_list', 'page_url', 'product_list', 'referrer', \n",
    "                                         'revenue'], axis=1)\n",
    "search_df = search_df[(search_df.search_engine != \"\") & (search_df.search_keyword != \"\")]\n",
    "search_df"
   ]
  },
  {
   "cell_type": "code",
   "execution_count": 15,
   "metadata": {},
   "outputs": [
    {
     "data": {
      "text/html": [
       "<div>\n",
       "<style scoped>\n",
       "    .dataframe tbody tr th:only-of-type {\n",
       "        vertical-align: middle;\n",
       "    }\n",
       "\n",
       "    .dataframe tbody tr th {\n",
       "        vertical-align: top;\n",
       "    }\n",
       "\n",
       "    .dataframe thead th {\n",
       "        text-align: right;\n",
       "    }\n",
       "</style>\n",
       "<table border=\"1\" class=\"dataframe\">\n",
       "  <thead>\n",
       "    <tr style=\"text-align: right;\">\n",
       "      <th></th>\n",
       "      <th>search_engine</th>\n",
       "      <th>search_keyword</th>\n",
       "      <th>revenue</th>\n",
       "    </tr>\n",
       "    <tr>\n",
       "      <th>ip</th>\n",
       "      <th></th>\n",
       "      <th></th>\n",
       "      <th></th>\n",
       "    </tr>\n",
       "  </thead>\n",
       "  <tbody>\n",
       "    <tr>\n",
       "      <th>23.8.61.21</th>\n",
       "      <td>www.bing.com</td>\n",
       "      <td>Zune</td>\n",
       "      <td>250</td>\n",
       "    </tr>\n",
       "    <tr>\n",
       "      <th>44.12.96.2</th>\n",
       "      <td>www.google.com</td>\n",
       "      <td>ipod</td>\n",
       "      <td>190</td>\n",
       "    </tr>\n",
       "    <tr>\n",
       "      <th>67.98.123.1</th>\n",
       "      <td>www.google.com</td>\n",
       "      <td>Ipod</td>\n",
       "      <td>290</td>\n",
       "    </tr>\n",
       "  </tbody>\n",
       "</table>\n",
       "</div>"
      ],
      "text/plain": [
       "              search_engine search_keyword revenue\n",
       "ip                                                \n",
       "23.8.61.21     www.bing.com           Zune     250\n",
       "44.12.96.2   www.google.com           ipod     190\n",
       "67.98.123.1  www.google.com           Ipod     290"
      ]
     },
     "execution_count": 15,
     "metadata": {},
     "output_type": "execute_result"
    }
   ],
   "source": [
    "merged_df = search_df.merge(revenue_df, left_index=True, right_index=True, how='inner')\n",
    "merged_df"
   ]
  },
  {
   "cell_type": "code",
   "execution_count": 16,
   "metadata": {},
   "outputs": [
    {
     "data": {
      "text/html": [
       "<div>\n",
       "<style scoped>\n",
       "    .dataframe tbody tr th:only-of-type {\n",
       "        vertical-align: middle;\n",
       "    }\n",
       "\n",
       "    .dataframe tbody tr th {\n",
       "        vertical-align: top;\n",
       "    }\n",
       "\n",
       "    .dataframe thead th {\n",
       "        text-align: right;\n",
       "    }\n",
       "</style>\n",
       "<table border=\"1\" class=\"dataframe\">\n",
       "  <thead>\n",
       "    <tr style=\"text-align: right;\">\n",
       "      <th></th>\n",
       "      <th>search_engine</th>\n",
       "      <th>search_keyword</th>\n",
       "      <th>revenue</th>\n",
       "    </tr>\n",
       "  </thead>\n",
       "  <tbody>\n",
       "    <tr>\n",
       "      <th>2</th>\n",
       "      <td>www.google.com</td>\n",
       "      <td>Ipod</td>\n",
       "      <td>290</td>\n",
       "    </tr>\n",
       "    <tr>\n",
       "      <th>0</th>\n",
       "      <td>www.bing.com</td>\n",
       "      <td>Zune</td>\n",
       "      <td>250</td>\n",
       "    </tr>\n",
       "    <tr>\n",
       "      <th>1</th>\n",
       "      <td>www.google.com</td>\n",
       "      <td>ipod</td>\n",
       "      <td>190</td>\n",
       "    </tr>\n",
       "  </tbody>\n",
       "</table>\n",
       "</div>"
      ],
      "text/plain": [
       "    search_engine search_keyword revenue\n",
       "2  www.google.com           Ipod     290\n",
       "0    www.bing.com           Zune     250\n",
       "1  www.google.com           ipod     190"
      ]
     },
     "execution_count": 16,
     "metadata": {},
     "output_type": "execute_result"
    }
   ],
   "source": [
    "output_df = merged_df.reset_index(drop=True)\n",
    "output_df = output_df.sort_values(['revenue'], ascending=False)\n",
    "output_df"
   ]
  },
  {
   "cell_type": "code",
   "execution_count": 17,
   "metadata": {},
   "outputs": [
    {
     "data": {
      "text/html": [
       "<div>\n",
       "<style scoped>\n",
       "    .dataframe tbody tr th:only-of-type {\n",
       "        vertical-align: middle;\n",
       "    }\n",
       "\n",
       "    .dataframe tbody tr th {\n",
       "        vertical-align: top;\n",
       "    }\n",
       "\n",
       "    .dataframe thead th {\n",
       "        text-align: right;\n",
       "    }\n",
       "</style>\n",
       "<table border=\"1\" class=\"dataframe\">\n",
       "  <thead>\n",
       "    <tr style=\"text-align: right;\">\n",
       "      <th></th>\n",
       "      <th>Search Engine Domain</th>\n",
       "      <th>Search Keyboard</th>\n",
       "      <th>Revenue</th>\n",
       "    </tr>\n",
       "  </thead>\n",
       "  <tbody>\n",
       "    <tr>\n",
       "      <th>2</th>\n",
       "      <td>www.google.com</td>\n",
       "      <td>Ipod</td>\n",
       "      <td>290</td>\n",
       "    </tr>\n",
       "    <tr>\n",
       "      <th>0</th>\n",
       "      <td>www.bing.com</td>\n",
       "      <td>Zune</td>\n",
       "      <td>250</td>\n",
       "    </tr>\n",
       "    <tr>\n",
       "      <th>1</th>\n",
       "      <td>www.google.com</td>\n",
       "      <td>ipod</td>\n",
       "      <td>190</td>\n",
       "    </tr>\n",
       "  </tbody>\n",
       "</table>\n",
       "</div>"
      ],
      "text/plain": [
       "  Search Engine Domain Search Keyboard Revenue\n",
       "2       www.google.com            Ipod     290\n",
       "0         www.bing.com            Zune     250\n",
       "1       www.google.com            ipod     190"
      ]
     },
     "execution_count": 17,
     "metadata": {},
     "output_type": "execute_result"
    }
   ],
   "source": [
    "output_df = output_df.rename({'search_engine': 'Search Engine Domain', \n",
    "                              'search_keyword': 'Search Keyword',\n",
    "                              'revenue': 'Revenue'}, axis=1)\n",
    "output_df"
   ]
  },
  {
   "cell_type": "code",
   "execution_count": 18,
   "metadata": {},
   "outputs": [
    {
     "name": "stdout",
     "output_type": "stream",
     "text": [
      "2021-12-15\n"
     ]
    }
   ],
   "source": [
    "from datetime import date\n",
    "today = date.today()\n",
    "dte = today.strftime(\"%Y-%m-%d\")\n",
    "print(dte)"
   ]
  },
  {
   "cell_type": "code",
   "execution_count": 19,
   "metadata": {},
   "outputs": [],
   "source": [
    "output_df.to_csv(dte + '_SearchKeywordPerformance.tab', sep='\\t', index=False)"
   ]
  },
  {
   "cell_type": "code",
   "execution_count": null,
   "metadata": {},
   "outputs": [],
   "source": []
  }
 ],
 "metadata": {
  "kernelspec": {
   "display_name": "Python 3",
   "language": "python",
   "name": "python3"
  },
  "language_info": {
   "codemirror_mode": {
    "name": "ipython",
    "version": 3
   },
   "file_extension": ".py",
   "mimetype": "text/x-python",
   "name": "python",
   "nbconvert_exporter": "python",
   "pygments_lexer": "ipython3",
   "version": "3.9.6"
  }
 },
 "nbformat": 4,
 "nbformat_minor": 4
}
